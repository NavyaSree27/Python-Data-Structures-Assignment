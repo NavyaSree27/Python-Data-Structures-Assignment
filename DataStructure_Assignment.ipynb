{
  "nbformat": 4,
  "nbformat_minor": 0,
  "metadata": {
    "colab": {
      "provenance": []
    },
    "kernelspec": {
      "name": "python3",
      "display_name": "Python 3"
    },
    "language_info": {
      "name": "python"
    }
  },
  "cells": [
    {
      "cell_type": "markdown",
      "source": [
        "#1.Discuss string slicing and provide examples.\n",
        "\n",
        "String slicing in Python allows you to extract a specific portion or \"slice\" of a string. This is done using a slice notation, which consists of the syntax: string[start:stop:step]. Here's what each parameter represents:\n",
        "\n",
        "\n",
        "*    start: The starting index of the slice (inclusive).\n",
        "*    stop: The ending index of the slice (exclusive).\n",
        "*    step: The step size or interval between each index in the\n",
        "     slice.\n",
        "\n",
        "Examples of String Slicing\n",
        "\n",
        "Let's consider a string text = \"Hello, World!\".\n",
        "\n",
        "###1.Basic Slicing\n",
        "```\n",
        "text = \"Hello, World!\"\n",
        "slice1 = text[0:5]    # Extracts characters from index 0 to 4\n",
        "print(slice1)         # Output: \"Hello\"\n",
        "```\n",
        "\n",
        "###2.Omitting Start or Stop\n",
        "\n",
        "1.If start is omitted, the slice starts from the beginning.\n",
        "\n",
        "2.If stop is omitted, the slice continues to the end of the string.\n",
        "\n",
        "```\n",
        "slice2 = text[:5]     # Same as text[0:5]\n",
        "print(slice2)         # Output: \"Hello\"\n",
        "\n",
        "slice3 = text[7:]     # Extracts from index 7 to the end\n",
        "print(slice3)         # Output: \"World!\"\n",
        "```\n",
        "###3.Using Negative Indexing\n",
        "\n",
        "Negative indexing allows you to count from the end of the string.\n",
        "```\n",
        "slice4 = text[-6:]    # Extracts the last 6 characters\n",
        "print(slice4)         # Output: \"World!\"\n",
        "\n",
        "slice5 = text[:-7]    # Extracts everything except the last 7 characters\n",
        "print(slice5)         # Output: \"Hello\"\n",
        "```\n",
        "###4.Using Step Parameter\n",
        "\n",
        "The step parameter defines the interval between characters to extract.\n",
        "```\n",
        "slice6 = text[::2]    # Extracts every second character\n",
        "print(slice6)         # Output: \"Hlo ol!\"\n",
        "\n",
        "slice7 = text[::-1]   # Reverses the string\n",
        "print(slice7)         # Output: \"!dlroW ,olleH\"\n",
        "```\n",
        "\n",
        "###Conclusion\n",
        "1.The default value of start is 0.\n",
        "\n",
        "2.The default value of stop is the length of the string.\n",
        "\n",
        "3.The default value of step is 1.\n",
        "\n",
        "4.Negative step values can be used to reverse the direction of the slicing."
      ],
      "metadata": {
        "id": "EsDhRlTcRqTt"
      }
    },
    {
      "cell_type": "code",
      "source": [
        "#Basic Slicing\n",
        "text = \"Hello, World!\"\n",
        "slice1 = text[0:5]    # Extracts characters from index 0 to 4\n",
        "print(slice1)         # Output: \"Hello\"\n",
        "\n"
      ],
      "metadata": {
        "colab": {
          "base_uri": "https://localhost:8080/"
        },
        "id": "QLj4lJ74nXKo",
        "outputId": "f37b4b89-970c-4339-8514-633d51c74dfc"
      },
      "execution_count": null,
      "outputs": [
        {
          "output_type": "stream",
          "name": "stdout",
          "text": [
            "Hello\n"
          ]
        }
      ]
    },
    {
      "cell_type": "code",
      "source": [
        "#Omitting Start or Stop\n",
        "slice2 = text[:5]     # Same as text[0:5]\n",
        "print(slice2)         # Output: \"Hello\"\n",
        "\n",
        "slice3 = text[7:]     # Extracts from index 7 to the end\n",
        "print(slice3)         # Output: \"World!\""
      ],
      "metadata": {
        "colab": {
          "base_uri": "https://localhost:8080/"
        },
        "id": "XEkzU3w4nXnO",
        "outputId": "2cfb4092-26af-4fd8-c6eb-4c20a67a2efd"
      },
      "execution_count": null,
      "outputs": [
        {
          "output_type": "stream",
          "name": "stdout",
          "text": [
            "Hello\n",
            "World!\n"
          ]
        }
      ]
    },
    {
      "cell_type": "code",
      "source": [
        "#Using Negative Indexing\n",
        "slice4 = text[-6:]    # Extracts the last 6 characters\n",
        "print(slice4)         # Output: \"World!\"\n",
        "\n",
        "slice5 = text[:-7]    # Extracts everything except the last 7 characters\n",
        "print(slice5)         # Output: \"Hello\""
      ],
      "metadata": {
        "colab": {
          "base_uri": "https://localhost:8080/"
        },
        "id": "Lo_hlT8BnXr_",
        "outputId": "810246b8-30da-484d-fc2b-73d5292091a4"
      },
      "execution_count": null,
      "outputs": [
        {
          "output_type": "stream",
          "name": "stdout",
          "text": [
            "World!\n",
            "Hello,\n"
          ]
        }
      ]
    },
    {
      "cell_type": "code",
      "source": [
        "#Using Step Parameter\n",
        "slice6 = text[::2]    # Extracts every second character\n",
        "print(slice6)         # Output: \"Hlo ol!\"\n",
        "\n",
        "slice7 = text[::-1]   # Reverses the string\n",
        "print(slice7)         # Output: \"!dlroW ,olleH\""
      ],
      "metadata": {
        "colab": {
          "base_uri": "https://localhost:8080/"
        },
        "id": "PwqptCqfn10k",
        "outputId": "4dcdbb68-5ee0-450c-d2d6-57ce9101bd71"
      },
      "execution_count": null,
      "outputs": [
        {
          "output_type": "stream",
          "name": "stdout",
          "text": [
            "Hlo ol!\n",
            "!dlroW ,olleH\n"
          ]
        }
      ]
    },
    {
      "cell_type": "markdown",
      "source": [
        "#2.Explain the key features of lists in python.\n",
        "\n",
        "Lists in Python are versatile, mutable (modifiable), and ordered collections that can store a variety of data types. They are one of the most commonly used data structures in Python due to their flexibility and ease of use.\n",
        "\n",
        "###Key Features of Lists in Python\n",
        "###1.Ordered Collection\n",
        "\n",
        "Lists maintain the order of the elements as they were added. This means that when you iterate over a list or access its elements by their index, they will always be in the same order in which they were inserted.\n",
        "```\n",
        "fruits = [\"apple\", \"banana\", \"cherry\"]\n",
        "print(fruits[0])  # Output: \"apple\"\n",
        "```\n",
        "###2.Mutable\n",
        "\n",
        "Lists are mutable, meaning you can change their content after creation. You can add, modify, or remove elements.\n",
        "```\n",
        "fruits = [\"apple\", \"banana\", \"cherry\"]\n",
        "fruits[1] = \"orange\"  # Modifies the second element\n",
        "print(fruits)  # Output: [\"apple\", \"orange\", \"cherry\"]\n",
        "```\n",
        "###3.Heterogeneous Elements\n",
        "\n",
        "Lists can store elements of different data types, including integers, strings, floats, objects, or even other lists.\n",
        "```\n",
        "mixed_list = [1, \"Hello\", 3.14, [1, 2, 3]]\n",
        "print(mixed_list)  # Output: [1, \"Hello\", 3.14, [1, 2, 3]]\n",
        "```\n",
        "###4.Dynamic Size\n",
        "\n",
        "Lists can grow or shrink in size. You don't need to specify the size of the list when you create it; you can add or remove elements as needed.\n",
        "```\n",
        "numbers = [1, 2, 3]\n",
        "numbers.append(4)  # Adds a new element to the end\n",
        "print(numbers)  # Output: [1, 2, 3, 4]\n",
        "```\n",
        "###5.Support for Common Data Structure Operations\n",
        "\n",
        "Lists support many built-in operations, such as adding elements (append(), insert()), removing elements (remove(), pop()), and concatenation using the + operator.\n",
        "```\n",
        "colors = [\"red\", \"green\", \"blue\"]\n",
        "colors.append(\"yellow\")  # Adds \"yellow\" to the end\n",
        "colors.remove(\"green\")  # Removes \"green\"\n",
        "print(colors)  # Output: [\"red\", \"blue\", \"yellow\"]\n",
        "```\n",
        "###6.Indexing and Slicing\n",
        "\n",
        "You can access individual elements of a list using indices, and you can use slicing to extract a portion of a list.\n",
        "```\n",
        "numbers = [10, 20, 30, 40, 50]\n",
        "print(numbers[2])  # Output: 30\n",
        "print(numbers[1:4])  # Output: [20, 30, 40]\n",
        "```\n",
        "###7.List Comprehensions\n",
        "\n",
        "Python provides a concise way to create lists using list comprehensions, which can generate lists based on existing lists or other iterables.\n",
        "```\n",
        "squares = [x**2 for x in range(5)]\n",
        "print(squares)  # Output: [0, 1, 4, 9, 16]\n",
        "```\n",
        "###8.Built-in Functions and Methods\n",
        "\n",
        "Python provides a range of built-in functions (len(), max(), min(), sum()) and list-specific methods (sort(), reverse(), count(), index()) that make working with lists convenient.\n",
        "```\n",
        "letters = ['a', 'c', 'b']\n",
        "letters.sort()\n",
        "print(letters)  # Output: ['a', 'b', 'c']\n",
        "```\n",
        "###9.Memory Efficient\n",
        "\n",
        "Lists in Python are dynamically sized and use an underlying array structure, which makes them memory efficient for various operations, although not as efficient as tuples for read-only data.\n",
        "###10.Nesting Capability\n",
        "\n",
        "Lists can be nested within other lists, allowing you to create complex data structures like matrices or trees.\n",
        "```\n",
        "matrix = [[1, 2, 3], [4, 5, 6], [7, 8, 9]]\n",
        "print(matrix[1][2])  # Output: 6\n",
        "```\n",
        "###Conclusion\n",
        "Lists in Python are highly flexible, allowing them to be used in a wide range of scenarios, from simple data storage to complex data structures. Their mutable nature makes them particularly useful for tasks where the dataset needs to be manipulated or changed frequently."
      ],
      "metadata": {
        "id": "n-gyMPcbo29n"
      }
    },
    {
      "cell_type": "code",
      "source": [
        "#Ordered Collection\n",
        "fruits = [\"apple\", \"banana\", \"cherry\"]\n",
        "print(fruits[0])  # Output: \"apple\"\n"
      ],
      "metadata": {
        "colab": {
          "base_uri": "https://localhost:8080/"
        },
        "id": "qm8xW9Qjq_yU",
        "outputId": "241943f3-710e-4601-b26b-a411ccf9b972"
      },
      "execution_count": null,
      "outputs": [
        {
          "output_type": "stream",
          "name": "stdout",
          "text": [
            "apple\n"
          ]
        }
      ]
    },
    {
      "cell_type": "code",
      "source": [
        "#Mutable\n",
        "fruits = [\"apple\", \"banana\", \"cherry\"]\n",
        "fruits[1] = \"orange\"  # Modifies the second element\n",
        "print(fruits)  # Output: [\"apple\", \"orange\", \"cherry\"]"
      ],
      "metadata": {
        "colab": {
          "base_uri": "https://localhost:8080/"
        },
        "id": "QJSKbV__q_2U",
        "outputId": "8142b33c-edf9-46c2-f601-d98e03b82283"
      },
      "execution_count": null,
      "outputs": [
        {
          "output_type": "stream",
          "name": "stdout",
          "text": [
            "['apple', 'orange', 'cherry']\n"
          ]
        }
      ]
    },
    {
      "cell_type": "code",
      "source": [
        "#Heterogenous elements\n",
        "mixed_list = [1, \"Hello\", 3.14, [1, 2, 3]]\n",
        "print(mixed_list)  # Output: [1, \"Hello\", 3.14, [1, 2, 3]]"
      ],
      "metadata": {
        "colab": {
          "base_uri": "https://localhost:8080/"
        },
        "id": "KxclBy5kq_7B",
        "outputId": "4b994d8e-17b8-4471-9299-94a536b1e265"
      },
      "execution_count": null,
      "outputs": [
        {
          "output_type": "stream",
          "name": "stdout",
          "text": [
            "[1, 'Hello', 3.14, [1, 2, 3]]\n"
          ]
        }
      ]
    },
    {
      "cell_type": "code",
      "source": [
        "#Dynamic size\n",
        "numbers = [1, 2, 3]\n",
        "numbers.append(4)  # Adds a new element to the end\n",
        "print(numbers)  # Output: [1, 2, 3, 4]"
      ],
      "metadata": {
        "colab": {
          "base_uri": "https://localhost:8080/"
        },
        "id": "_6fJVM7Vq__H",
        "outputId": "976ee4ca-4f8e-4f25-c6ae-ae2143db9d86"
      },
      "execution_count": null,
      "outputs": [
        {
          "output_type": "stream",
          "name": "stdout",
          "text": [
            "[1, 2, 3, 4]\n"
          ]
        }
      ]
    },
    {
      "cell_type": "code",
      "source": [
        "#Support for common data structure operations\n",
        "colors = [\"red\", \"green\", \"blue\"]\n",
        "colors.append(\"yellow\")  # Adds \"yellow\" to the end\n",
        "colors.remove(\"green\")  # Removes \"green\"\n",
        "print(colors)  # Output: [\"red\", \"blue\", \"yellow\"]"
      ],
      "metadata": {
        "colab": {
          "base_uri": "https://localhost:8080/"
        },
        "id": "lU5dVMRhrAFO",
        "outputId": "113eb01f-cfb7-4b73-beda-7dbdd52b7de2"
      },
      "execution_count": null,
      "outputs": [
        {
          "output_type": "stream",
          "name": "stdout",
          "text": [
            "['red', 'blue', 'yellow']\n"
          ]
        }
      ]
    },
    {
      "cell_type": "code",
      "source": [
        "#Indexing and slicing\n",
        "numbers = [10, 20, 30, 40, 50]\n",
        "print(numbers[2])  # Output: 30\n",
        "print(numbers[1:4])  # Output: [20, 30, 40]"
      ],
      "metadata": {
        "colab": {
          "base_uri": "https://localhost:8080/"
        },
        "id": "oXCgyLeYrm8y",
        "outputId": "79989e63-a0ef-4685-f819-f319f49ae02d"
      },
      "execution_count": null,
      "outputs": [
        {
          "output_type": "stream",
          "name": "stdout",
          "text": [
            "30\n",
            "[20, 30, 40]\n"
          ]
        }
      ]
    },
    {
      "cell_type": "code",
      "source": [
        "#List comprehensions\n",
        "squares = [x**2 for x in range(5)]\n",
        "print(squares)  # Output: [0, 1, 4, 9, 16]"
      ],
      "metadata": {
        "colab": {
          "base_uri": "https://localhost:8080/"
        },
        "id": "meygTa-grm_8",
        "outputId": "2a37edf7-c15f-4b61-cc1d-0a3a5afec41a"
      },
      "execution_count": null,
      "outputs": [
        {
          "output_type": "stream",
          "name": "stdout",
          "text": [
            "[0, 1, 4, 9, 16]\n"
          ]
        }
      ]
    },
    {
      "cell_type": "code",
      "source": [
        "#Built in functions and methods\n",
        "letters = ['a', 'c', 'b']\n",
        "letters.sort()\n",
        "print(letters)  # Output: ['a', 'b', 'c']"
      ],
      "metadata": {
        "colab": {
          "base_uri": "https://localhost:8080/"
        },
        "id": "yI5FiZT4rnDk",
        "outputId": "e2350567-cd0d-460b-dfe0-9d1216c7da3a"
      },
      "execution_count": null,
      "outputs": [
        {
          "output_type": "stream",
          "name": "stdout",
          "text": [
            "['a', 'b', 'c']\n"
          ]
        }
      ]
    },
    {
      "cell_type": "code",
      "source": [
        "#Nested capability\n",
        "matrix = [[1, 2, 3], [4, 5, 6], [7, 8, 9]]\n",
        "print(matrix[1][2])  # Output: 6"
      ],
      "metadata": {
        "colab": {
          "base_uri": "https://localhost:8080/"
        },
        "id": "q-Hcb1Xzr-eN",
        "outputId": "3e9ceb6d-bba4-4bde-deb7-1e14ccc14e46"
      },
      "execution_count": null,
      "outputs": [
        {
          "output_type": "stream",
          "name": "stdout",
          "text": [
            "6\n"
          ]
        }
      ]
    },
    {
      "cell_type": "markdown",
      "source": [
        "#3.Describe how to access,modify and delete elements in a list with examples.\n",
        "\n",
        "###1.Accessing Elements in a List\n",
        "You can access elements in a list using their index. The index in Python starts from 0 for the first element and goes up to n-1 for the last element, where n is the number of elements in the list.\n",
        "\n",
        "1.Access a Single Element:\n",
        "```\n",
        "fruits = [\"apple\", \"banana\", \"cherry\", \"date\"]\n",
        "print(fruits[1])  # Output: \"banana\"\n",
        "```\n",
        "2.Access Multiple Elements (Slicing):\n",
        "\n",
        "You can use slicing to access a range of elements.\n",
        "```\n",
        "print(fruits[1:3])  # Output: [\"banana\", \"cherry\"]\n",
        "print(fruits[:2])   # Output: [\"apple\", \"banana\"]\n",
        "print(fruits[2:])   # Output: [\"cherry\", \"date\"]\n",
        "```\n",
        "3.Access Elements Using Negative Indexing:\n",
        "\n",
        "Negative indexing allows you to access elements from the end of the list.\n",
        "```\n",
        "print(fruits[-1])   # Output: \"date\"\n",
        "print(fruits[-2])   # Output: \"cherry\"\n",
        "```\n",
        "###2.Modifying Elements in a List\n",
        "You can modify elements in a list by assigning a new value to a specific index.\n",
        "\n",
        "1.Modify a Single Element:\n",
        "```\n",
        "fruits[1] = \"orange\"   # Changes \"banana\" to \"orange\"\n",
        "print(fruits)          # Output: [\"apple\", \"orange\", \"cherry\", \"date\"]\n",
        "```\n",
        "2. Multiple Elements:\n",
        "\n",
        "You can modify a range of elements using slicing.\n",
        "```\n",
        "fruits[1:3] = [\"mango\", \"grape\"]  # Replaces \"orange\" and \"cherry\"\n",
        "print(fruits)  # Output: [\"apple\", \"mango\", \"grape\", \"date\"]\n",
        "```\n",
        "3.Appending Elements:\n",
        "\n",
        "Use append() to add an element at the end of the list.\n",
        "```\n",
        "fruits.append(\"kiwi\")\n",
        "print(fruits)  # Output: [\"apple\", \"mango\", \"grape\", \"date\", \"kiwi\"]\n",
        "```\n",
        "4.Inserting Elements:\n",
        "\n",
        "Use insert(index, element) to add an element at a specific position.\n",
        "```\n",
        "fruits.insert(2, \"pineapple\")\n",
        "print(fruits)  # Output: [\"apple\", \"mango\", \"pineapple\", \"grape\", \"date\", \"kiwi\"]\n",
        "```\n",
        "###3.Deleting Elements in a List\n",
        "There are several methods to delete elements from a list:\n",
        "\n",
        "1.Using del Statement:\n",
        "\n",
        "Delete a Single Element:\n",
        "```\n",
        "del fruits[2]  # Deletes \"pineapple\"\n",
        "print(fruits)  # Output: [\"apple\", \"mango\", \"grape\", \"date\", \"kiwi\"]\n",
        "```\n",
        "Delete Multiple Elements:\n",
        "```\n",
        "del fruits[1:3]  # Deletes \"mango\" and \"grape\"\n",
        "print(fruits)    # Output: [\"apple\", \"date\", \"kiwi\"]\n",
        "```\n",
        "2.Using remove() Method:\n",
        "\n",
        "Removes the first occurrence of the specified value.\n",
        "```\n",
        "fruits.remove(\"date\")\n",
        "print(fruits)  # Output: [\"apple\", \"kiwi\"]\n",
        "```\n",
        "3.Using pop() Method:\n",
        "\n",
        "Removes and returns an element from a specific index (defaults to the last element if no index is provided).\n",
        "```\n",
        "fruits.pop()    # Removes the last element (\"kiwi\")\n",
        "print(fruits)   # Output: [\"apple\"]\n",
        "\n",
        "fruits = [\"apple\", \"banana\", \"cherry\"]\n",
        "fruits.pop(1)   # Removes the element at index 1 (\"banana\")\n",
        "print(fruits)   # Output: [\"apple\", \"cherry\"]\n",
        "```\n",
        "4.Using clear() Method:\n",
        "\n",
        "Removes all elements from the list.\n",
        "```\n",
        "fruits.clear()\n",
        "print(fruits)  # Output: []\n",
        "```\n",
        "###Conclusion\n",
        "1.Access elements using indexing or slicing.\n",
        "\n",
        "2.Modify elements by assigning new values or using append() and insert().\n",
        "\n",
        "3.Delete elements using del, remove(), pop(), or clear().\n"
      ],
      "metadata": {
        "id": "SyDWD5l-sGTU"
      }
    },
    {
      "cell_type": "code",
      "source": [
        "#Access a single lement\n",
        "fruits = [\"apple\", \"banana\", \"cherry\", \"date\"]\n",
        "print(fruits[1])  # Output: \"banana\""
      ],
      "metadata": {
        "colab": {
          "base_uri": "https://localhost:8080/"
        },
        "id": "oAtQVAlTvRmD",
        "outputId": "4f65aa8a-f20e-4e10-eb04-afd57d3751a6"
      },
      "execution_count": null,
      "outputs": [
        {
          "output_type": "stream",
          "name": "stdout",
          "text": [
            "banana\n"
          ]
        }
      ]
    },
    {
      "cell_type": "code",
      "source": [
        "#Access multiple elements\n",
        "print(fruits[1:3])  # Output: [\"banana\", \"cherry\"]\n",
        "print(fruits[:2])   # Output: [\"apple\", \"banana\"]\n",
        "print(fruits[2:])   # Output: [\"cherry\", \"date\"]\n"
      ],
      "metadata": {
        "colab": {
          "base_uri": "https://localhost:8080/"
        },
        "id": "e2maBVM2vRpS",
        "outputId": "64e14148-80c0-41c0-bcb6-c976a4afa688"
      },
      "execution_count": null,
      "outputs": [
        {
          "output_type": "stream",
          "name": "stdout",
          "text": [
            "['banana', 'cherry']\n",
            "['apple', 'banana']\n",
            "['cherry', 'date']\n"
          ]
        }
      ]
    },
    {
      "cell_type": "code",
      "source": [
        "#Access elements uisng negative indexing\n",
        "print(fruits[-1])   # Output: \"date\"\n",
        "print(fruits[-2])   # Output: \"cherry\"\n"
      ],
      "metadata": {
        "colab": {
          "base_uri": "https://localhost:8080/"
        },
        "id": "TFZTS6B-vRsq",
        "outputId": "e1627ba2-777c-4844-96bc-f035b637eece"
      },
      "execution_count": null,
      "outputs": [
        {
          "output_type": "stream",
          "name": "stdout",
          "text": [
            "date\n",
            "cherry\n"
          ]
        }
      ]
    },
    {
      "cell_type": "code",
      "source": [
        "#Modify a single element\n",
        "fruits[1] = \"orange\"   # Changes \"banana\" to \"orange\"\n",
        "print(fruits)          # Output: [\"apple\", \"orange\", \"cherry\", \"date\"]\n"
      ],
      "metadata": {
        "colab": {
          "base_uri": "https://localhost:8080/"
        },
        "id": "f22YaDowvRwS",
        "outputId": "dd9849a4-4f24-48f4-f0c2-72376e6f9217"
      },
      "execution_count": null,
      "outputs": [
        {
          "output_type": "stream",
          "name": "stdout",
          "text": [
            "['apple', 'orange', 'cherry', 'date']\n"
          ]
        }
      ]
    },
    {
      "cell_type": "code",
      "source": [
        "#Modify multiple elements\n",
        "fruits[1:3] = [\"mango\", \"grape\"]  # Replaces \"orange\" and \"cherry\"\n",
        "print(fruits)  # Output: [\"apple\", \"mango\", \"grape\", \"date\"]\n"
      ],
      "metadata": {
        "colab": {
          "base_uri": "https://localhost:8080/"
        },
        "id": "BR3VJN9ovRza",
        "outputId": "3f5ba6ac-9429-4d18-d788-4693eaf0418f"
      },
      "execution_count": null,
      "outputs": [
        {
          "output_type": "stream",
          "name": "stdout",
          "text": [
            "['apple', 'mango', 'grape', 'date']\n"
          ]
        }
      ]
    },
    {
      "cell_type": "code",
      "source": [
        "#Appending elements\n",
        "fruits.append(\"kiwi\")\n",
        "print(fruits)  # Output: [\"apple\", \"mango\", \"grape\", \"date\", \"kiwi\"]\n"
      ],
      "metadata": {
        "colab": {
          "base_uri": "https://localhost:8080/"
        },
        "id": "KFglBh64vR1_",
        "outputId": "46fd2075-25ea-4bb4-dd8d-7d6e85c94ce5"
      },
      "execution_count": null,
      "outputs": [
        {
          "output_type": "stream",
          "name": "stdout",
          "text": [
            "['apple', 'mango', 'grape', 'date', 'kiwi']\n"
          ]
        }
      ]
    },
    {
      "cell_type": "code",
      "source": [
        "#inserting elements\n",
        "fruits.insert(2, \"pineapple\")\n",
        "print(fruits)  # Output: [\"apple\", \"mango\", \"pineapple\", \"grape\", \"date\", \"kiwi\"]\n"
      ],
      "metadata": {
        "colab": {
          "base_uri": "https://localhost:8080/"
        },
        "id": "aCueS2w4vR46",
        "outputId": "b884d495-1094-45f6-f003-3975ccc8fb59"
      },
      "execution_count": null,
      "outputs": [
        {
          "output_type": "stream",
          "name": "stdout",
          "text": [
            "['apple', 'mango', 'pineapple', 'grape', 'date', 'kiwi']\n"
          ]
        }
      ]
    },
    {
      "cell_type": "code",
      "source": [
        "#Delete a single element\n",
        "del fruits[2]  # Deletes \"pineapple\"\n",
        "print(fruits)  # Output: [\"apple\", \"mango\", \"grape\", \"date\", \"kiwi\"]\n"
      ],
      "metadata": {
        "colab": {
          "base_uri": "https://localhost:8080/"
        },
        "id": "lTvze0RbvR9f",
        "outputId": "02f9307a-707e-40d1-df94-7b41db211589"
      },
      "execution_count": null,
      "outputs": [
        {
          "output_type": "stream",
          "name": "stdout",
          "text": [
            "['apple', 'mango', 'grape', 'date', 'kiwi']\n"
          ]
        }
      ]
    },
    {
      "cell_type": "code",
      "source": [
        "#Delete multiple elements\n",
        "del fruits[1:3]  # Deletes \"mango\" and \"grape\"\n",
        "print(fruits)    # Output: [\"apple\", \"date\", \"kiwi\"]\n"
      ],
      "metadata": {
        "colab": {
          "base_uri": "https://localhost:8080/"
        },
        "id": "y327ZZqnvSAw",
        "outputId": "c42efb2e-7c46-49a8-99ea-10d9fd896400"
      },
      "execution_count": null,
      "outputs": [
        {
          "output_type": "stream",
          "name": "stdout",
          "text": [
            "['apple', 'date', 'kiwi']\n"
          ]
        }
      ]
    },
    {
      "cell_type": "code",
      "source": [
        "#using remove() method\n",
        "fruits.remove(\"date\")\n",
        "print(fruits)  # Output: [\"apple\", \"kiwi\"]\n"
      ],
      "metadata": {
        "colab": {
          "base_uri": "https://localhost:8080/"
        },
        "id": "TOfPA-y8vSFW",
        "outputId": "fa8b4af3-b08b-4589-fffe-fd44dd78b7b7"
      },
      "execution_count": null,
      "outputs": [
        {
          "output_type": "stream",
          "name": "stdout",
          "text": [
            "['apple', 'kiwi']\n"
          ]
        }
      ]
    },
    {
      "cell_type": "code",
      "source": [
        "#uisng pop() method\n",
        "fruits.pop()    # Removes the last element (\"kiwi\")\n",
        "print(fruits)   # Output: [\"apple\"]\n",
        "\n",
        "fruits = [\"apple\", \"banana\", \"cherry\"]\n",
        "fruits.pop(1)   # Removes the element at index 1 (\"banana\")\n",
        "print(fruits)   # Output: [\"apple\", \"cherry\"]\n"
      ],
      "metadata": {
        "colab": {
          "base_uri": "https://localhost:8080/"
        },
        "id": "IbkJ9F_4wL-p",
        "outputId": "0a9cceae-d0e1-42c4-b34b-a63d4c023423"
      },
      "execution_count": null,
      "outputs": [
        {
          "output_type": "stream",
          "name": "stdout",
          "text": [
            "['apple']\n",
            "['apple', 'cherry']\n"
          ]
        }
      ]
    },
    {
      "cell_type": "code",
      "source": [
        "#Using clear() method\n",
        "fruits.clear()\n",
        "print(fruits)  # Output: []\n"
      ],
      "metadata": {
        "colab": {
          "base_uri": "https://localhost:8080/"
        },
        "id": "2gX4MwRTwR3I",
        "outputId": "c710235a-aa56-4d15-b33a-972374268126"
      },
      "execution_count": null,
      "outputs": [
        {
          "output_type": "stream",
          "name": "stdout",
          "text": [
            "[]\n"
          ]
        }
      ]
    },
    {
      "cell_type": "markdown",
      "source": [
        "#4.Compare and contrast tuples and lists with examples.\n",
        "\n",
        "Tuples and lists are both built-in data structures in Python used for storing collections of items. However, they have different properties and use cases.\n",
        "\n",
        "###Comparison of Tuples and Lists\n",
        "\n",
        "**1.Definition:**\n",
        "\n",
        "Tuples:\tOrdered, immutable collection of elements.\n",
        "\n",
        "List: Ordered, mutable collection of elements.\n",
        "\n",
        "**2.Syntax:**\n",
        "\n",
        "Tuples: Defined using parentheses: ()\n",
        "\n",
        "list: Defined using square brackets: []\n",
        "\n",
        "**3.Mutability:**\n",
        "\n",
        "Tuples: Immutable (cannot be modified after creation).\n",
        "\n",
        "List: Mutable (can be modified, elements can be added or removed).\n",
        "\n",
        "**4.Performance:**\n",
        "\n",
        "Tuples:Faster due to immutability and fixed size.\n",
        "\n",
        "List: Slower due to dynamic resizing and mutability.\n",
        "\n",
        "**5.Methods:**\n",
        "\n",
        "Tuples:\tLimited methods: count(), index().\n",
        "\n",
        "List:Extensive methods: append(), extend(), insert(), remove(), pop(), clear(), sort(), reverse(), etc.\n",
        "\n",
        "**6.Use Cases:**\n",
        "\n",
        "Tuples:\tSuitable for fixed collections (like constants).\n",
        "\n",
        "List: Suitable for collections that require frequent updates.\n",
        "\n",
        "**7.Memory Usage**\n",
        "\n",
        "Tuples:Generally consumes less memory.\n",
        "\n",
        "List:Generally consumes more memory due to the dynamic size.\n",
        "\n",
        "**8.Hashable:**\n",
        "\n",
        "Tuples:\tYes (can be used as dictionary keys).\n",
        "\n",
        "List:No (cannot be used as dictionary keys).\n",
        "\n",
        "###Examples of Tuples and Lists\n",
        "Let's look at some examples to highlight the differences and similarities between tuples and lists.\n",
        "\n",
        "###1. Defining Tuples and Lists\n",
        "Tuple:\n",
        "```\n",
        "tuple_example = (1, 2, 3, \"apple\")\n",
        "print(tuple_example)  # Output: (1, 2, 3, 'apple')\n",
        "```\n",
        "List:\n",
        "```\n",
        "list_example = [1, 2, 3, \"apple\"]\n",
        "print(list_example)  # Output: [1, 2, 3, 'apple']\n",
        "```\n",
        "###2. Mutability (Modification)\n",
        "Lists are mutable:\n",
        "```\n",
        "list_example[1] = \"banana\"  # Modifying an element\n",
        "print(list_example)  # Output: [1, 'banana', 3, 'apple']\n",
        "\n",
        "list_example.append(\"cherry\")  # Adding an element\n",
        "print(list_example)  # Output: [1, 'banana', 3, 'apple', 'cherry']\n",
        "```\n",
        "Tuples are immutable:\n",
        "```\n",
        "# Attempting to modify a tuple will raise a TypeError\n",
        "tuple_example[1] = \"banana\"  # Raises TypeError: 'tuple' object does not support item assignment\n",
        "```\n",
        "###3. Performance\n",
        "Tuples are faster:\n",
        "\n",
        "Due to their immutability, tuples are generally faster than lists, especially for large data sets. This is because Python can optimize access to tuples more efficiently since they do not change over time.\n",
        "```\n",
        "import timeit\n",
        "\n",
        "# Time to create a tuple\n",
        "time_tuple = timeit.timeit(stmt=\"(1, 2, 3, 4, 5)\", number=1000000)\n",
        "\n",
        "# Time to create a list\n",
        "time_list = timeit.timeit(stmt=\"[1, 2, 3, 4, 5]\", number=1000000)\n",
        "\n",
        "print(\"Tuple creation time:\", time_tuple)  # Faster\n",
        "print(\"List creation time:\", time_list)    # Slower\n",
        "```\n",
        "###4. Methods Available\n",
        "Tuple Methods:\n",
        "```\n",
        "tuple_example = (1, 2, 3, 2, 4)\n",
        "print(tuple_example.count(2))  # Output: 2 (counts occurrences of 2)\n",
        "print(tuple_example.index(3))  # Output: 2 (returns the index of the first occurrence of 3)\n",
        "```\n",
        "List Methods:\n",
        "```\n",
        "list_example = [1, 2, 3, 4]\n",
        "list_example.append(5)        # Adds 5 to the end\n",
        "print(list_example)           # Output: [1, 2, 3, 4, 5]\n",
        "\n",
        "list_example.remove(2)        # Removes the first occurrence of 2\n",
        "print(list_example)           # Output: [1, 3, 4, 5]\n",
        "\n",
        "list_example.reverse()        # Reverses the list\n",
        "print(list_example)           # Output: [5, 4, 3, 1]\n",
        "```\n",
        "###5. Memory Usage\n",
        "Tuples use less memory:\n",
        "\n",
        "Tuples have a smaller memory footprint compared to lists, which makes them more memory-efficient when working with large datasets that do not require modification.\n",
        "```\n",
        "import sys\n",
        "\n",
        "tuple_example = (1, 2, 3, 4, 5)\n",
        "list_example = [1, 2, 3, 4, 5]\n",
        "\n",
        "print(sys.getsizeof(tuple_example))  # Output: smaller memory size\n",
        "print(sys.getsizeof(list_example))   # Output: larger memory size\n",
        "```\n",
        "###6. Hashability\n",
        "Tuples are hashable:\n",
        "\n",
        "Tuples can be used as keys in a dictionary because they are immutable and hashable.\n",
        "```\n",
        "my_dict = {(1, 2): \"point\"}  # Tuple as a key\n",
        "print(my_dict[(1, 2)])       # Output: \"point\"\n",
        "```\n",
        "Lists are not hashable:\n",
        "\n",
        "Lists cannot be used as dictionary keys because they are mutable.\n",
        "```\n",
        "# This will raise a TypeError\n",
        "my_dict = {[1, 2]: \"point\"}  # Raises TypeError: unhashable type: 'list'\n",
        "```\n",
        "###When to Use Tuples vs. Lists\n",
        "Use Tuples when:\n",
        "\n",
        "You want an immutable collection (data that should not change).\n",
        "You need to use the collection as a key in a dictionary.\n",
        "Memory efficiency and performance are priorities.\n",
        "The collection is fixed, and you don't need to add, remove, or modify elements.\n",
        "\n",
        "Use Lists when:\n",
        "\n",
        "You need a mutable collection (data that needs frequent updates).\n",
        "You require a wide range of methods to manipulate the collection.\n",
        "The size of the collection may change over time."
      ],
      "metadata": {
        "id": "x8mdbkaZwbIS"
      }
    },
    {
      "cell_type": "code",
      "source": [
        "#Defining tuples and lists\n",
        "tuple_example = (1, 2, 3, \"apple\")\n",
        "print(tuple_example)  # Output: (1, 2, 3, 'apple')\n",
        "list_example = [1, 2, 3, \"apple\"]\n",
        "print(list_example)  # Output: [1, 2, 3, 'apple']"
      ],
      "metadata": {
        "colab": {
          "base_uri": "https://localhost:8080/"
        },
        "id": "LdSF4N7DzdJY",
        "outputId": "3631ca0f-67a0-404b-b884-a5fc7c588de7"
      },
      "execution_count": null,
      "outputs": [
        {
          "output_type": "stream",
          "name": "stdout",
          "text": [
            "(1, 2, 3, 'apple')\n",
            "[1, 2, 3, 'apple']\n"
          ]
        }
      ]
    },
    {
      "cell_type": "code",
      "source": [
        "#Mutability\n",
        "list_example[1] = \"banana\"  # Modifying an element\n",
        "print(list_example)  # Output: [1, 'banana', 3, 'apple']\n",
        "\n",
        "list_example.append(\"cherry\")  # Adding an element\n",
        "print(list_example)  # Output: [1, 'banana', 3, 'apple', 'cherry']\n",
        "# Attempting to modify a tuple will raise a TypeError\n",
        "#tuple_example[1] = \"banana\"  # Raises TypeError: 'tuple' object does not"
      ],
      "metadata": {
        "colab": {
          "base_uri": "https://localhost:8080/"
        },
        "id": "EQ3sbPYSzdMB",
        "outputId": "045dff3b-aab9-4158-d8c6-8cdfcd42674d"
      },
      "execution_count": null,
      "outputs": [
        {
          "output_type": "stream",
          "name": "stdout",
          "text": [
            "[1, 'banana', 3, 'apple', 'cherry']\n",
            "[1, 'banana', 3, 'apple', 'cherry', 'cherry']\n"
          ]
        }
      ]
    },
    {
      "cell_type": "code",
      "source": [
        "#Performance\n",
        "import timeit\n",
        "\n",
        "# Time to create a tuple\n",
        "time_tuple = timeit.timeit(stmt=\"(1, 2, 3, 4, 5)\", number=1000000)\n",
        "\n",
        "# Time to create a list\n",
        "time_list = timeit.timeit(stmt=\"[1, 2, 3, 4, 5]\", number=1000000)\n",
        "\n",
        "print(\"Tuple creation time:\", time_tuple)  # Faster\n",
        "print(\"List creation time:\", time_list)    # Slower\n"
      ],
      "metadata": {
        "colab": {
          "base_uri": "https://localhost:8080/"
        },
        "id": "8QIMFr1-zdQ8",
        "outputId": "188023ec-2bf6-45b7-9ba5-324330562a9c"
      },
      "execution_count": null,
      "outputs": [
        {
          "output_type": "stream",
          "name": "stdout",
          "text": [
            "Tuple creation time: 0.021031558000686346\n",
            "List creation time: 0.06469056500009174\n"
          ]
        }
      ]
    },
    {
      "cell_type": "code",
      "source": [
        "#Methods available\n",
        "tuple_example = (1, 2, 3, 2, 4)\n",
        "print(tuple_example.count(2))  # Output: 2 (counts occurrences of 2)\n",
        "print(tuple_example.index(3))  # Output: 2 (returns the index of the first occurrence of 3)\n",
        "list_example = [1, 2, 3, 4]\n",
        "list_example.append(5)        # Adds 5 to the end\n",
        "print(list_example)           # Output: [1, 2, 3, 4, 5]\n",
        "\n",
        "list_example.remove(2)        # Removes the first occurrence of 2\n",
        "print(list_example)           # Output: [1, 3, 4, 5]\n",
        "\n",
        "list_example.reverse()        # Reverses the list\n",
        "print(list_example)           # Output: [5, 4, 3, 1]"
      ],
      "metadata": {
        "colab": {
          "base_uri": "https://localhost:8080/"
        },
        "id": "6DixGTb5zdTT",
        "outputId": "9c999ff4-4a13-4153-aa97-9f16fb4c4c5c"
      },
      "execution_count": null,
      "outputs": [
        {
          "output_type": "stream",
          "name": "stdout",
          "text": [
            "2\n",
            "2\n",
            "[1, 2, 3, 4, 5]\n",
            "[1, 3, 4, 5]\n",
            "[5, 4, 3, 1]\n"
          ]
        }
      ]
    },
    {
      "cell_type": "code",
      "source": [
        "#Memory usage\n",
        "tuple_example = (1, 2, 3, 2, 4)\n",
        "print(tuple_example.count(2))  # Output: 2 (counts occurrences of 2)\n",
        "print(tuple_example.index(3))  # Output: 2 (returns the index of the first occurrence of 3)\n",
        "list_example = [1, 2, 3, 4]\n",
        "list_example.append(5)        # Adds 5 to the end\n",
        "print(list_example)           # Output: [1, 2, 3, 4, 5]\n",
        "\n",
        "list_example.remove(2)        # Removes the first occurrence of 2\n",
        "print(list_example)           # Output: [1, 3, 4, 5]\n",
        "\n",
        "list_example.reverse()        # Reverses the list\n",
        "print(list_example)           # Output: [5, 4, 3, 1]"
      ],
      "metadata": {
        "colab": {
          "base_uri": "https://localhost:8080/"
        },
        "id": "IjMRN3b3zdXN",
        "outputId": "1db107e0-013f-4d1c-fdef-872561d88858"
      },
      "execution_count": null,
      "outputs": [
        {
          "output_type": "stream",
          "name": "stdout",
          "text": [
            "2\n",
            "2\n",
            "[1, 2, 3, 4, 5]\n",
            "[1, 3, 4, 5]\n",
            "[5, 4, 3, 1]\n"
          ]
        }
      ]
    },
    {
      "cell_type": "code",
      "source": [
        "#Hashability\n",
        "my_dict = {(1, 2): \"point\"}  # Tuple as a key\n",
        "print(my_dict[(1, 2)])       # Output: \"point\"\n",
        "# This will raise a TypeError\n",
        "my_dict = {[1, 2]: \"point\"}  # Raises TypeError: unhashable type: 'list'"
      ],
      "metadata": {
        "colab": {
          "base_uri": "https://localhost:8080/",
          "height": 199
        },
        "id": "YcMk9Nv_zddK",
        "outputId": "9d669f5b-25ff-4d20-866e-82e153c6ce0e"
      },
      "execution_count": null,
      "outputs": [
        {
          "output_type": "stream",
          "name": "stdout",
          "text": [
            "point\n"
          ]
        },
        {
          "output_type": "error",
          "ename": "TypeError",
          "evalue": "unhashable type: 'list'",
          "traceback": [
            "\u001b[0;31m---------------------------------------------------------------------------\u001b[0m",
            "\u001b[0;31mTypeError\u001b[0m                                 Traceback (most recent call last)",
            "\u001b[0;32m<ipython-input-33-4cd979689ee6>\u001b[0m in \u001b[0;36m<cell line: 5>\u001b[0;34m()\u001b[0m\n\u001b[1;32m      3\u001b[0m \u001b[0mprint\u001b[0m\u001b[0;34m(\u001b[0m\u001b[0mmy_dict\u001b[0m\u001b[0;34m[\u001b[0m\u001b[0;34m(\u001b[0m\u001b[0;36m1\u001b[0m\u001b[0;34m,\u001b[0m \u001b[0;36m2\u001b[0m\u001b[0;34m)\u001b[0m\u001b[0;34m]\u001b[0m\u001b[0;34m)\u001b[0m       \u001b[0;31m# Output: \"point\"\u001b[0m\u001b[0;34m\u001b[0m\u001b[0;34m\u001b[0m\u001b[0m\n\u001b[1;32m      4\u001b[0m \u001b[0;31m# This will raise a TypeError\u001b[0m\u001b[0;34m\u001b[0m\u001b[0;34m\u001b[0m\u001b[0m\n\u001b[0;32m----> 5\u001b[0;31m \u001b[0mmy_dict\u001b[0m \u001b[0;34m=\u001b[0m \u001b[0;34m{\u001b[0m\u001b[0;34m[\u001b[0m\u001b[0;36m1\u001b[0m\u001b[0;34m,\u001b[0m \u001b[0;36m2\u001b[0m\u001b[0;34m]\u001b[0m\u001b[0;34m:\u001b[0m \u001b[0;34m\"point\"\u001b[0m\u001b[0;34m}\u001b[0m  \u001b[0;31m# Raises TypeError: unhashable type: 'list'\u001b[0m\u001b[0;34m\u001b[0m\u001b[0;34m\u001b[0m\u001b[0m\n\u001b[0m",
            "\u001b[0;31mTypeError\u001b[0m: unhashable type: 'list'"
          ]
        }
      ]
    },
    {
      "cell_type": "markdown",
      "source": [
        "#5.Describe the key features of sets and provide examples of their use.\n",
        "\n",
        "###Key Features of Sets in Python\n",
        "\n",
        "A set in Python is an unordered collection of unique elements. Sets are useful when you need to store and manipulate an unordered collection of distinct items.\n",
        "\n",
        "###1.Unordered Collection:\n",
        "\n",
        "Sets do not maintain any particular order for elements. When you print a set or iterate over it, the order of elements may differ from the order in which they were added.\n",
        "```\n",
        "my_set = {3, 1, 4, 2}\n",
        "print(my_set)  # Output: {1, 2, 3, 4} (order may vary)\n",
        "```\n",
        "###2.Unique Elements:\n",
        "\n",
        "Sets automatically eliminate duplicate elements. If you attempt to add a duplicate element to a set, it will be ignored.\n",
        "```\n",
        "my_set = {1, 2, 2, 3, 4, 4}\n",
        "print(my_set)  # Output: {1, 2, 3, 4}\n",
        "```\n",
        "###3.Mutable:\n",
        "\n",
        "Sets are mutable, meaning you can add or remove elements after the set has been created. However, the elements themselves must be immutable (e.g., numbers, strings, tuples).\n",
        "```\n",
        "my_set = {1, 2, 3}\n",
        "my_set.add(4)      # Adds 4 to the set\n",
        "my_set.remove(2)   # Removes 2 from the set\n",
        "print(my_set)      # Output: {1, 3, 4}\n",
        "```\n",
        "###4.Efficient Membership Testing:\n",
        "\n",
        "Sets are optimized for checking whether a particular element exists in the set. This operation is much faster compared to lists or tuples.\n",
        "```\n",
        "my_set = {1, 2, 3, 4}\n",
        "print(3 in my_set)  # Output: True\n",
        "print(5 in my_set)  # Output: False\n",
        "```\n",
        "###5.No Indexing or Slicing:\n",
        "\n",
        "Since sets are unordered, you cannot access elements by index or slice them as you would with lists or tuples.\n",
        "```\n",
        "# The following will raise an error:\n",
        "my_set = {1, 2, 3}\n",
        "print(my_set[0])  # Raises TypeError: 'set' object is not subscriptable\n",
        "```\n",
        "###6.Set Operations:\n",
        "\n",
        "Sets support mathematical set operations like union, intersection, difference, and symmetric difference.\n",
        "\n",
        "Union (| or union()): Combines elements from two sets.\n",
        "\n",
        "Intersection (& or intersection()): Returns elements common to both sets.\n",
        "\n",
        "Difference (- or difference()): Returns elements in the first set but not in the second.\n",
        "\n",
        "Symmetric Difference (^ or symmetric_difference()): Returns elements in either of the sets, but not in both.\n",
        "```\n",
        "set_a = {1, 2, 3, 4}\n",
        "set_b = {3, 4, 5, 6}\n",
        "\n",
        "print(set_a | set_b)  # Union: {1, 2, 3, 4, 5, 6}\n",
        "print(set_a & set_b)  # Intersection: {3, 4}\n",
        "print(set_a - set_b)  # Difference: {1, 2}\n",
        "print(set_a ^ set_b)  # Symmetric Difference: {1, 2, 5, 6}\n",
        "```\n",
        "\n",
        "###7.Immutable Variant: Frozen Set:\n",
        "\n",
        "Python also has an immutable version of a set called a frozen set. Once created, a frozen set cannot be modified (no adding or removing elements).\n",
        "```\n",
        "frozen_set = frozenset([1, 2, 3, 3])\n",
        "print(frozen_set)  # Output: frozenset({1, 2, 3})\n",
        "```\n",
        "###Examples of Set Usage\n",
        "1.Removing Duplicates from a List:\n",
        "\n",
        "A common use of sets is to eliminate duplicate values from a list.\n",
        "```\n",
        "my_list = [1, 2, 2, 3, 4, 4, 5]\n",
        "unique_elements = set(my_list)\n",
        "print(unique_elements)  # Output: {1, 2, 3, 4, 5}\n",
        "```\n",
        "2.Membership Testing:\n",
        "\n",
        "Sets are ideal for scenarios where you need to frequently check for the existence of an element.\n",
        "```\n",
        "valid_colors = {\"red\", \"green\", \"blue\"}\n",
        "color = \"yellow\"\n",
        "\n",
        "if color in valid_colors:\n",
        "    print(f\"{color} is a valid color.\")\n",
        "else:\n",
        "    print(f\"{color} is not a valid color.\")\n",
        "```\n",
        "3.Set Operations in Data Analysis:\n",
        "\n",
        "Set operations like intersection and union can be useful in data analysis, such as finding common items between datasets.\n",
        "```\n",
        "students_math = {\"Alice\", \"Bob\", \"Charlie\"}\n",
        "students_science = {\"Bob\", \"David\", \"Alice\"}\n",
        "\n",
        "# Students who are in both classes\n",
        "common_students = students_math & students_science\n",
        "print(common_students)  # Output: {'Alice', 'Bob'}\n",
        "```\n",
        "4.Removing Items with a Condition:\n",
        "\n",
        "You can use set comprehension to filter out elements based on a condition.\n",
        "```\n",
        "numbers = {1, 2, 3, 4, 5, 6}\n",
        "even_numbers = {num for num in numbers if num % 2 == 0}\n",
        "print(even_numbers)  # Output: {2, 4, 6}\n",
        "```\n",
        "###Conclusion:\n",
        "\n",
        "1.Sets in Python are unordered collections of unique elements.\n",
        "\n",
        "2.They are mutable, allow efficient membership testing, and support various mathematical set operations.\n",
        "\n",
        "3.Sets are ideal for scenarios where uniqueness is important, such as removing duplicates, performing membership tests, or conducting set operations."
      ],
      "metadata": {
        "id": "T96T8etS0mHa"
      }
    },
    {
      "cell_type": "code",
      "source": [
        "#unordered collection\n",
        "my_set = {3, 1, 4, 2}\n",
        "print(my_set)  # Output: {1, 2, 3, 4} (order may vary)"
      ],
      "metadata": {
        "colab": {
          "base_uri": "https://localhost:8080/"
        },
        "id": "PJOzq5YE7W_C",
        "outputId": "247ca919-bc2b-4f4c-b5e9-143da5fe7a9c"
      },
      "execution_count": null,
      "outputs": [
        {
          "output_type": "stream",
          "name": "stdout",
          "text": [
            "{1, 2, 3, 4}\n"
          ]
        }
      ]
    },
    {
      "cell_type": "code",
      "source": [
        "#umique collection\n",
        "#my_set = {1, 2, 2, 3, 4, 4}\n",
        "print(my_set)  # Output: {1, 2, 3, 4}"
      ],
      "metadata": {
        "colab": {
          "base_uri": "https://localhost:8080/"
        },
        "id": "ph6leT407W7S",
        "outputId": "3edeeb54-9183-4024-d543-fb7c7c36c873"
      },
      "execution_count": null,
      "outputs": [
        {
          "output_type": "stream",
          "name": "stdout",
          "text": [
            "{1, 2, 3, 4}\n"
          ]
        }
      ]
    },
    {
      "cell_type": "code",
      "source": [
        "#mutable collection\n",
        "my_set = {1, 2, 3}\n",
        "my_set.add(4)      # Adds 4 to the set\n",
        "my_set.remove(2)   # Removes 2 from the set\n",
        "print(my_set)      # Output: {1, 3, 4}"
      ],
      "metadata": {
        "colab": {
          "base_uri": "https://localhost:8080/"
        },
        "id": "O7aw7IqW7W3q",
        "outputId": "35a1eaa4-dcfe-4af0-b0be-9e29a91d4efb"
      },
      "execution_count": null,
      "outputs": [
        {
          "output_type": "stream",
          "name": "stdout",
          "text": [
            "{1, 3, 4}\n"
          ]
        }
      ]
    },
    {
      "cell_type": "code",
      "source": [
        "#membershiop testing\n",
        "my_set = {1, 2, 3, 4}\n",
        "print(3 in my_set)  # Output: True\n",
        "print(5 in my_set)  # Output: False"
      ],
      "metadata": {
        "colab": {
          "base_uri": "https://localhost:8080/"
        },
        "id": "QC7fOPYg79nC",
        "outputId": "c1266aa0-2f21-4f83-815b-3a4a461ec426"
      },
      "execution_count": null,
      "outputs": [
        {
          "output_type": "stream",
          "name": "stdout",
          "text": [
            "True\n",
            "False\n"
          ]
        }
      ]
    },
    {
      "cell_type": "code",
      "source": [
        "#No indexing or slicing\n",
        "# The following will raise an error:\n",
        "my_set = {1, 2, 3}\n",
        "print(my_set[0])  # Raises TypeError: 'set' object is not subscriptable"
      ],
      "metadata": {
        "id": "3Rj8NZj37W0L"
      },
      "execution_count": null,
      "outputs": []
    },
    {
      "cell_type": "code",
      "source": [
        "#set operations\n",
        "set_a = {1, 2, 3, 4}\n",
        "set_b = {3, 4, 5, 6}\n",
        "\n",
        "print(set_a | set_b)  # Union: {1, 2, 3, 4, 5, 6}\n",
        "print(set_a & set_b)  # Intersection: {3, 4}\n",
        "print(set_a - set_b)  # Difference: {1, 2}\n",
        "print(set_a ^ set_b)  # Symmetric Difference: {1, 2, 5, 6}"
      ],
      "metadata": {
        "colab": {
          "base_uri": "https://localhost:8080/"
        },
        "id": "LDh_iTt57Wsr",
        "outputId": "3b2dd86f-4c46-46df-b7be-6f01a8f824f5"
      },
      "execution_count": null,
      "outputs": [
        {
          "output_type": "stream",
          "name": "stdout",
          "text": [
            "{1, 2, 3, 4, 5, 6}\n",
            "{3, 4}\n",
            "{1, 2}\n",
            "{1, 2, 5, 6}\n"
          ]
        }
      ]
    },
    {
      "cell_type": "code",
      "source": [
        "#frozen set\n",
        "frozen_set = frozenset([1, 2, 3, 3])\n",
        "print(frozen_set)  # Output: frozenset({1, 2, 3})"
      ],
      "metadata": {
        "colab": {
          "base_uri": "https://localhost:8080/"
        },
        "id": "gDZHuc288GTf",
        "outputId": "a3cafc7a-b2c6-4ae8-ca76-7a87e793775b"
      },
      "execution_count": null,
      "outputs": [
        {
          "output_type": "stream",
          "name": "stdout",
          "text": [
            "frozenset({1, 2, 3})\n"
          ]
        }
      ]
    },
    {
      "cell_type": "markdown",
      "source": [
        "#6.Discuss the use cases of tuples and sets in python programming.\n",
        "\n",
        "###Use Cases of Tuples and Sets in Python Programming\n",
        "Both tuples and sets serve unique purposes in Python programming due to their distinct characteristics.\n",
        "\n",
        "###Use Cases of Tuples\n",
        "1.Fixed Collections of Items:\n",
        "\n",
        "When you have a collection of related items that should not change, tuples are a great choice. For example, representing a point in 2D or 3D space, days of the week, or RGB color codes.\n",
        "```\n",
        "point = (10, 20)  # A point in 2D space\n",
        "days_of_week = (\"Monday\", \"Tuesday\", \"Wednesday\", \"Thursday\", \"Friday\", \"Saturday\", \"Sunday\")\n",
        "rgb_color = (255, 0, 0)  # Red color\n",
        "```\n",
        "2.Data Integrity:\n",
        "\n",
        "Since tuples are immutable, they can be used to ensure data integrity. For example, if you want to make sure that a sequence of values (like coordinates or database records) remains unchanged throughout the program.\n",
        "```\n",
        "database_record = (\"John Doe\", 30, \"Engineer\")  # Tuple ensures the record stays constant\n",
        "```\n",
        "3.Return Multiple Values from Functions:\n",
        "\n",
        "Tuples are often used to return multiple values from functions. Python functions can return more than one value by packing them into a tuple.\n",
        "```\n",
        "def get_min_max(numbers):\n",
        "    return min(numbers), max(numbers)  # Returns a tuple\n",
        "\n",
        "min_value, max_value = get_min_max([4, 1, 7, 3])\n",
        "print(min_value, max_value)  # Output: 1, 7\n",
        "```\n",
        "4.Dictionary Keys:\n",
        "\n",
        "Tuples can be used as keys in a dictionary since they are hashable (immutable). This is useful when you need to create a dictionary with compound keys (like coordinates, pairs of values, etc.).\n",
        "```\n",
        "coordinates = {(0, 0): \"Origin\", (1, 2): \"Point A\", (2, 1): \"Point B\"}\n",
        "print(coordinates[(1, 2)])  # Output: \"Point A\"\n",
        "```\n",
        "5.Named Tuples for Readability:\n",
        "\n",
        "Python's collections module provides named tuples, which allow you to define simple classes to make your code more readable.\n",
        "```\n",
        "from collections import namedtuple\n",
        "\n",
        "# Create a named tuple\n",
        "Person = namedtuple('Person', ['name', 'age', 'occupation'])\n",
        "person1 = Person(name=\"Alice\", age=25, occupation=\"Doctor\")\n",
        "print(person1.name)  # Output: \"Alice\"\n",
        "```\n",
        "6.Memory Efficiency and Performance:\n",
        "\n",
        "Tuples use less memory than lists, making them more memory-efficient, especially when working with large collections of data that do not require modification. They are also generally faster to iterate over compared to lists.\n",
        "```\n",
        "large_tuple = (1,) * 1000000  # More memory-efficient than a list\n",
        "Use Cases of Sets\n",
        "```\n",
        "###Use cases of sets:\n",
        "1.Removing Duplicates from Collections:\n",
        "\n",
        "Sets are ideal for removing duplicates from a list or any other iterable. They automatically eliminate duplicate values.\n",
        "```\n",
        "numbers = [1, 2, 2, 3, 4, 4, 5]\n",
        "unique_numbers = list(set(numbers))\n",
        "print(unique_numbers)  # Output: [1, 2, 3, 4, 5]\n",
        "```\n",
        "2.Membership Testing:\n",
        "\n",
        "Sets are optimized for checking if an item exists in the collection. This makes them suitable for scenarios where you frequently need to check membership.\n",
        "```\n",
        "allowed_users = {\"Alice\", \"Bob\", \"Charlie\"}\n",
        "user = \"David\"\n",
        "\n",
        "if user in allowed_users:\n",
        "    print(f\"{user} is allowed.\")\n",
        "else:\n",
        "    print(f\"{user} is not allowed.\")  # Output: \"David is not allowed.\"\n",
        "```\n",
        "3.Mathematical Set Operations:\n",
        "\n",
        "Sets are ideal for performing mathematical set operations like union, intersection, difference, and symmetric difference. These operations are useful in tasks like finding common elements, differences, or combining elements from multiple datasets.\n",
        "```\n",
        "set_a = {1, 2, 3}\n",
        "set_b = {2, 3, 4}\n",
        "\n",
        "print(set_a | set_b)  # Union: {1, 2, 3, 4}\n",
        "print(set_a & set_b)  # Intersection: {2, 3}\n",
        "print(set_a - set_b)  # Difference: {1}\n",
        "```\n",
        "4.Data Validation and Filtering:\n",
        "\n",
        "Sets can be used to filter data or enforce uniqueness constraints in data processing tasks. For example, you can quickly find unique elements or filter out unwanted data.\n",
        "```\n",
        "names = [\"Alice\", \"Bob\", \"Alice\", \"David\"]\n",
        "unique_names = set(names)\n",
        "print(unique_names)  # Output: {'David', 'Alice', 'Bob'}\n",
        "```\n",
        "5.Efficient Data Lookup:\n",
        "\n",
        "Since sets use a hash-based structure, lookups (checking if an element exists) are very fast compared to lists, especially for large datasets.\n",
        "```\n",
        "large_set = set(range(1000000))\n",
        "print(999999 in large_set)  # Output: True, lookup is fast\n",
        "```\n",
        "6.Operations on Large Datasets:\n",
        "\n",
        "Sets are useful for operations involving large datasets, such as finding common elements between two large datasets (intersection) or combining datasets (union).\n",
        "\n",
        "```\n",
        "dataset1 = {\"apple\", \"banana\", \"cherry\"}\n",
        "dataset2 = {\"banana\", \"cherry\", \"date\", \"fig\"}\n",
        "\n",
        "common_elements = dataset1 & dataset2  # Output: {'banana', 'cherry'}\n",
        "all_elements = dataset1 | dataset2     # Output: {'apple', 'banana', 'cherry', 'date', 'fig'}\n",
        "```\n",
        "###Conclusion:\n",
        "Tuples are used when you need an immutable sequence of elements, such as fixed collections, function return values, or dictionary keys. They are more memory-efficient and faster than lists.\n",
        "Sets are used when you need a collection of unique elements with no particular order. They are ideal for membership testing, removing duplicates, performing set operations, and filtering or validating data."
      ],
      "metadata": {
        "id": "O8Ni6R8t8V3q"
      }
    },
    {
      "cell_type": "code",
      "source": [
        "#Fixed collection of ietms\n",
        "point = (10, 20)  # A point in 2D space\n",
        "days_of_week = (\"Monday\", \"Tuesday\", \"Wednesday\", \"Thursday\", \"Friday\", \"Saturday\", \"Sunday\")\n",
        "rgb_color = (255, 0, 0)  # Red color\n"
      ],
      "metadata": {
        "id": "CJdWByxuC242"
      },
      "execution_count": null,
      "outputs": []
    },
    {
      "cell_type": "code",
      "source": [
        "#Return multiple values from functions\n",
        "def get_min_max(numbers):\n",
        "    return min(numbers), max(numbers)  # Returns a tuple\n",
        "\n",
        "min_value, max_value = get_min_max([4, 1, 7, 3])\n",
        "print(min_value, max_value)  # Output: 1, 7\n"
      ],
      "metadata": {
        "colab": {
          "base_uri": "https://localhost:8080/"
        },
        "id": "cn220P3lC2ys",
        "outputId": "88dca996-ef54-413e-80d6-37375e226c9c"
      },
      "execution_count": null,
      "outputs": [
        {
          "output_type": "stream",
          "name": "stdout",
          "text": [
            "1 7\n"
          ]
        }
      ]
    },
    {
      "cell_type": "code",
      "source": [
        "#Dictionary keys\n",
        "coordinates = {(0, 0): \"Origin\", (1, 2): \"Point A\", (2, 1): \"Point B\"}\n",
        "print(coordinates[(1, 2)])  # Output: \"Point A\"\n"
      ],
      "metadata": {
        "colab": {
          "base_uri": "https://localhost:8080/"
        },
        "id": "AAgdCPYsC2vs",
        "outputId": "cccd7a6f-e8d3-414a-cb83-b11780c483a3"
      },
      "execution_count": null,
      "outputs": [
        {
          "output_type": "stream",
          "name": "stdout",
          "text": [
            "Point A\n"
          ]
        }
      ]
    },
    {
      "cell_type": "code",
      "source": [
        "#Named tuples for redability\n",
        "from collections import namedtuple\n",
        "\n",
        "# Create a named tuple\n",
        "Person = namedtuple('Person', ['name', 'age', 'occupation'])\n",
        "person1 = Person(name=\"Alice\", age=25, occupation=\"Doctor\")\n",
        "print(person1.name)  # Output: \"Alice\"\n"
      ],
      "metadata": {
        "colab": {
          "base_uri": "https://localhost:8080/"
        },
        "id": "pzlCnOCOC2tP",
        "outputId": "a9d59f77-8b38-4094-a9d2-31252bdc1256"
      },
      "execution_count": null,
      "outputs": [
        {
          "output_type": "stream",
          "name": "stdout",
          "text": [
            "Alice\n"
          ]
        }
      ]
    },
    {
      "cell_type": "code",
      "source": [
        "#Removing duplicates from collection\n",
        "numbers = [1, 2, 2, 3, 4, 4, 5]\n",
        "unique_numbers = list(set(numbers))\n",
        "print(unique_numbers)  # Output: [1, 2, 3, 4, 5]\n",
        "\n"
      ],
      "metadata": {
        "colab": {
          "base_uri": "https://localhost:8080/"
        },
        "id": "7cuaN5LECB-l",
        "outputId": "16dadba3-9ced-4c31-8add-11f9705be767"
      },
      "execution_count": null,
      "outputs": [
        {
          "output_type": "stream",
          "name": "stdout",
          "text": [
            "[1, 2, 3, 4, 5]\n"
          ]
        }
      ]
    },
    {
      "cell_type": "code",
      "source": [
        "#Membership testing\n",
        "allowed_users = {\"Alice\", \"Bob\", \"Charlie\"}\n",
        "user = \"David\"\n",
        "\n",
        "if user in allowed_users:\n",
        "    print(f\"{user} is allowed.\")\n",
        "else:\n",
        "    print(f\"{user} is not allowed.\")  # Output: \"David is not allowed.\"\n"
      ],
      "metadata": {
        "colab": {
          "base_uri": "https://localhost:8080/"
        },
        "id": "Pp8LQGSBCC7v",
        "outputId": "cc1d703d-f9e6-4264-ed53-4bc6ca847022"
      },
      "execution_count": null,
      "outputs": [
        {
          "output_type": "stream",
          "name": "stdout",
          "text": [
            "David is not allowed.\n"
          ]
        }
      ]
    },
    {
      "cell_type": "code",
      "source": [
        "#Mathematical set operations\n",
        "set_a = {1, 2, 3}\n",
        "set_b = {2, 3, 4}\n",
        "\n",
        "print(set_a | set_b)  # Union: {1, 2, 3, 4}\n",
        "print(set_a & set_b)  # Intersection: {2, 3}\n",
        "print(set_a - set_b)  # Difference: {1}\n"
      ],
      "metadata": {
        "colab": {
          "base_uri": "https://localhost:8080/"
        },
        "id": "sj_hNtVoCC39",
        "outputId": "4541d24d-4518-4306-9686-4ad57784f3de"
      },
      "execution_count": null,
      "outputs": [
        {
          "output_type": "stream",
          "name": "stdout",
          "text": [
            "{1, 2, 3, 4}\n",
            "{2, 3}\n",
            "{1}\n"
          ]
        }
      ]
    },
    {
      "cell_type": "code",
      "source": [
        "#Data validation and filtering\n",
        "names = [\"Alice\", \"Bob\", \"Alice\", \"David\"]\n",
        "unique_names = set(names)\n",
        "print(unique_names)  # Output: {'David', 'Alice', 'Bob'}\n"
      ],
      "metadata": {
        "colab": {
          "base_uri": "https://localhost:8080/"
        },
        "id": "U8CcflZxCCz2",
        "outputId": "ff7c6769-1a11-4521-d6fb-393a2c1cde2e"
      },
      "execution_count": null,
      "outputs": [
        {
          "output_type": "stream",
          "name": "stdout",
          "text": [
            "{'Alice', 'Bob', 'David'}\n"
          ]
        }
      ]
    },
    {
      "cell_type": "code",
      "source": [
        "#Operations on large data sets\n",
        "dataset1 = {\"apple\", \"banana\", \"cherry\"}\n",
        "dataset2 = {\"banana\", \"cherry\", \"date\", \"fig\"}\n",
        "\n",
        "common_elements = dataset1 & dataset2  # Output: {'banana', 'cherry'}\n",
        "all_elements = dataset1 | dataset2     # Output: {'apple', 'banana', 'cherry', 'date', 'fig'}\n"
      ],
      "metadata": {
        "id": "_WzlCBmcCCwF"
      },
      "execution_count": null,
      "outputs": []
    },
    {
      "cell_type": "markdown",
      "source": [
        "#7.Describe how to add,modify and delete items in dictionary with examples.\n",
        "\n",
        "A dictionary in Python is an unordered collection of items where each item is stored as a key-value pair. Dictionaries are mutable, which means you can add, modify, or delete items.\n",
        "\n",
        "###Adding Items to a Dictionary\n",
        "1.Add a New Key-Value Pair:\n",
        "\n",
        "You can add a new key-value pair to a dictionary by assigning a value to a new key.\n",
        "```\n",
        "# Initialize a dictionary\n",
        "my_dict = {\"name\": \"Alice\", \"age\": 25}\n",
        "\n",
        "# Add a new key-value pair\n",
        "my_dict[\"city\"] = \"New York\"\n",
        "print(my_dict)  # Output: {'name': 'Alice', 'age': 25, 'city': 'New York'}\n",
        "```\n",
        "2.Using the update() Method:\n",
        "\n",
        "The update() method can be used to add multiple key-value pairs at once.\n",
        "```\n",
        "# Add multiple key-value pairs\n",
        "my_dict.update({\"country\": \"USA\", \"occupation\": \"Engineer\"})\n",
        "print(my_dict)  # Output: {'name': 'Alice', 'age': 25, 'city': 'New York', 'country': 'USA', 'occupation': 'Engineer'}\n",
        "```\n",
        "###Modifying Items in a Dictionary\n",
        "1.Modify the Value of an Existing Key:\n",
        "\n",
        "To modify an item in a dictionary, simply assign a new value to an existing key.\n",
        "```\n",
        "# Modify an existing key-value pair\n",
        "my_dict[\"age\"] = 30\n",
        "print(my_dict)  # Output: {'name': 'Alice', 'age': 30, 'city': 'New York', 'country': 'USA', 'occupation': 'Engineer'}\n",
        "```\n",
        "2.Using the update() Method:\n",
        "\n",
        "The update() method can also be used to modify existing key-value pairs.\n",
        "```\n",
        "# Modify multiple key-value pairs\n",
        "my_dict.update({\"city\": \"San Francisco\", \"occupation\": \"Data Scientist\"})\n",
        "print(my_dict)  # Output: {'name': 'Alice', 'age': 30, 'city': 'San Francisco', 'country': 'USA', 'occupation': 'Data Scientist'}\n",
        "```\n",
        "###Deleting Items from a Dictionary\n",
        "1.Using the del Keyword:\n",
        "\n",
        "The del keyword can be used to delete a specific key-value pair.\n",
        "```\n",
        "# Delete a key-value pair\n",
        "del my_dict[\"country\"]\n",
        "print(my_dict)  # Output: {'name': 'Alice', 'age': 30, 'city': 'San Francisco', 'occupation': 'Data Scientist'}\n",
        "```\n",
        "2.Using the pop() Method:\n",
        "\n",
        "The pop() method removes the specified key and returns its value. If the key does not exist, you can provide a default value to avoid\n",
        "\n",
        "```\n",
        "# Remove a key-value pair and return its value\n",
        "removed_value = my_dict.pop(\"age\")\n",
        "print(removed_value)  # Output: 30\n",
        "print(my_dict)        # Output: {'name': 'Alice', 'city': 'San Francisco', 'occupation': 'Data Scientist'}\n",
        "# Provide a default value if the key does not exist\n",
        "removed_value = my_dict.pop(\"salary\", \"Key not found\")\n",
        "print(removed_value)  # Output: \"Key not found\"\n",
        "```\n",
        "\n",
        "3.Using the popitem() Method:\n",
        "\n",
        "The popitem() method removes and returns the last inserted key-value pair as a tuple. This method is useful when you want to remove items in a Last-In-First-Out (LIFO) manner.\n",
        "```\n",
        "# Remove the last inserted key-value pair\n",
        "last_item = my_dict.popitem()\n",
        "print(last_item)  # Output: ('occupation', 'Data Scientist')\n",
        "print(my_dict)    # Output: {'name': 'Alice', 'city': 'San Francisco'}\n",
        "```\n",
        "4.Using the clear() Method:\n",
        "\n",
        "The clear() method removes all items from the dictionary, making it an empty dictionary.\n",
        "\n",
        "```\n",
        "# Clear all items in the dictionary\n",
        "my_dict.clear()\n",
        "print(my_dict)  # Output: {}\n",
        "```\n",
        "###Examples of Adding, Modifying, and Deleting Items\n",
        "```\n",
        "# Initialize a dictionary\n",
        "person = {\"name\": \"John\", \"age\": 28, \"city\": \"New York\"}\n",
        "\n",
        "# Add new key-value pairs\n",
        "person[\"occupation\"] = \"Software Developer\"\n",
        "person.update({\"country\": \"USA\", \"hobby\": \"Reading\"})\n",
        "print(person)\n",
        "# Output: {'name': 'John', 'age': 28, 'city': 'New York', 'occupation': 'Software Developer', 'country': 'USA', 'hobby': 'Reading'}\n",
        "\n",
        "# Modify existing key-value pairs\n",
        "person[\"age\"] = 30\n",
        "person.update({\"city\": \"San Francisco\", \"hobby\": \"Cycling\"})\n",
        "print(person)\n",
        "# Output: {'name': 'John', 'age': 30, 'city': 'San Francisco', 'occupation': 'Software Developer', 'country': 'USA', 'hobby': 'Cycling'}\n",
        "\n",
        "# Delete specific key-value pairs\n",
        "del person[\"country\"]\n",
        "person.pop(\"hobby\")\n",
        "print(person)\n",
        "# Output: {'name': 'John', 'age': 30, 'city': 'San Francisco', 'occupation': 'Software Developer'}\n",
        "\n",
        "# Remove and return the last inserted key-value pair\n",
        "removed_item = person.popitem()\n",
        "print(removed_item)  # Output: ('occupation', 'Software Developer')\n",
        "print(person)        # Output: {'name': 'John', 'age': 30, 'city': 'San Francisco'}\n",
        "\n",
        "# Clear all items in the dictionary\n",
        "person.clear()\n",
        "print(person)  # Output: {}\n",
        "Summary\n",
        "Adding Items: Use assignment (dict[key] = value) or update() method.\n",
        "Modifying Items: Use assignment (dict[key] = value) or update() method.\n",
        "Deleting Items: Use del keyword, pop(), popitem(), or clear() method.\n",
        "```\n",
        "###Conclusion:\n",
        "1.Adding Items: Use assignment (dict[key] = value) or update() method.\n",
        "\n",
        "2.Modifying Items: Use assignment (dict[key] = value) or update() method.\n",
        "\n",
        "3.Deleting Items: Use del keyword, pop(), popitem(), or clear() method.\n"
      ],
      "metadata": {
        "id": "VhedHHsSDY8U"
      }
    },
    {
      "cell_type": "code",
      "source": [
        "#Examples of Adding, Modifying, and Deleting Items\n",
        "\n",
        "# Initialize a dictionary\n",
        "person = {\"name\": \"John\", \"age\": 28, \"city\": \"New York\"}\n",
        "\n",
        "# Add new key-value pairs\n",
        "person[\"occupation\"] = \"Software Developer\"\n",
        "person.update({\"country\": \"USA\", \"hobby\": \"Reading\"})\n",
        "print(person)\n",
        "# Output: {'name': 'John', 'age': 28, 'city': 'New York', 'occupation': 'Software Developer', 'country': 'USA', 'hobby': 'Reading'}\n",
        "\n",
        "# Modify existing key-value pairs\n",
        "person[\"age\"] = 30\n",
        "person.update({\"city\": \"San Francisco\", \"hobby\": \"Cycling\"})\n",
        "print(person)\n",
        "# Output: {'name': 'John', 'age': 30, 'city': 'San Francisco', 'occupation': 'Software Developer', 'country': 'USA', 'hobby': 'Cycling'}\n",
        "\n",
        "# Delete specific key-value pairs\n",
        "del person[\"country\"]\n",
        "person.pop(\"hobby\")\n",
        "print(person)\n",
        "# Output: {'name': 'John', 'age': 30, 'city': 'San Francisco', 'occupation': 'Software Developer'}\n",
        "\n",
        "# Remove and return the last inserted key-value pair\n",
        "removed_item = person.popitem()\n",
        "print(removed_item)  # Output: ('occupation', 'Software Developer')\n",
        "print(person)        # Output: {'name': 'John', 'age': 30, 'city': 'San Francisco'}\n",
        "\n",
        "# Clear all items in the dictionary\n",
        "person.clear()\n",
        "print(person)  # Output: {}\n"
      ],
      "metadata": {
        "colab": {
          "base_uri": "https://localhost:8080/"
        },
        "id": "YSyJfHFYFgmV",
        "outputId": "a6fe00a2-22f3-41a7-b482-961b64db0ab8"
      },
      "execution_count": null,
      "outputs": [
        {
          "output_type": "stream",
          "name": "stdout",
          "text": [
            "{'name': 'John', 'age': 28, 'city': 'New York', 'occupation': 'Software Developer', 'country': 'USA', 'hobby': 'Reading'}\n",
            "{'name': 'John', 'age': 30, 'city': 'San Francisco', 'occupation': 'Software Developer', 'country': 'USA', 'hobby': 'Cycling'}\n",
            "{'name': 'John', 'age': 30, 'city': 'San Francisco', 'occupation': 'Software Developer'}\n",
            "('occupation', 'Software Developer')\n",
            "{'name': 'John', 'age': 30, 'city': 'San Francisco'}\n",
            "{}\n"
          ]
        }
      ]
    },
    {
      "cell_type": "markdown",
      "source": [
        "#8.Discuss the importance of dictionary keys being immutable and provide examples.\n",
        "\n",
        "###Importance of Dictionary Keys Being Immutable in Python\n",
        "In Python, dictionary keys must be immutable types, such as strings, numbers, or tuples. This immutability requirement is crucial because dictionary keys are stored using a hash-based data structure, which relies on the keys being consistent and unchangeable throughout their lifespan.\n",
        "\n",
        "###Why Dictionary Keys Must Be Immutable\n",
        "###1.Hashing and Performance:\n",
        "\n",
        "Python dictionaries use a hash table to store key-value pairs. When you insert a key-value pair into a dictionary, Python computes a hash value for the key using a hashing function. This hash value determines where to store the value in memory.\n",
        "\n",
        "If the key were mutable and could change after being added to the dictionary, the hash value would change as well. This would cause inconsistencies and make it impossible to efficiently locate or retrieve the value associated with that key.\n",
        "```\n",
        "# Example of an immutable key (string)\n",
        "my_dict = {\"name\": \"Alice\", \"age\": 30}\n",
        "print(my_dict[\"name\"])  # Output: Alice\n",
        "\n",
        "# Attempting to use a mutable type (like a list) as a key will raise an error\n",
        "# my_dict = {[\"name\"]: \"Alice\"}  # Raises TypeError: unhashable type: 'list'\n",
        "```\n",
        "###2.Data Integrity and Consistency:\n",
        "\n",
        "The immutability of keys ensures that the key-value relationships in a dictionary remain stable and consistent. If keys were mutable and their values could change, the dictionary's structure could become corrupted or produce unpredictable results.\n",
        "```\n",
        "# Correct use with an immutable key (tuple)\n",
        "coordinates = {(10, 20): \"Point A\", (30, 40): \"Point B\"}\n",
        "print(coordinates[(10, 20)])  # Output: \"Point A\"\n",
        "\n",
        "# Incorrect use with a mutable key (list) would raise an error\n",
        "# mutable_key_dict = {[1, 2]: \"Point C\"}  # Raises TypeError: unhashable type: 'list'\n",
        "```\n",
        "###3.Ensuring Unique and Identifiable Keys:\n",
        "\n",
        "Immutability guarantees that keys remain unique and identifiable. For example, if you could use a list as a key and then modify that list after insertion, it would become impossible to access the corresponding value since the hash value would no longer match the original.\n",
        "```\n",
        "# Immutable keys maintain unique identity\n",
        "person_info = {(\"John\", \"Doe\"): 35, (\"Jane\", \"Smith\"): 28}\n",
        "print(person_info[(\"John\", \"Doe\")])  # Output: 35\n",
        "\n",
        "# Attempt to use a mutable key (list) would fail\n",
        "# person_info = {[1, 2, 3]: \"value\"}  # Raises TypeError: unhashable type: 'list'\n",
        "```\n",
        "###4.Prevention of Unintended Side Effects:\n",
        "\n",
        "Using mutable types as dictionary keys could lead to unintended side effects. For example, modifying a mutable object used as a key could inadvertently affect the dictionary's behavior and lead to bugs that are difficult to trace.\n",
        "```\n",
        "# Correct usage with an immutable key\n",
        "my_dict = {(\"x\", \"y\"): \"Coordinates\"}\n",
        "print(my_dict[(\"x\", \"y\")])  # Output: \"Coordinates\"\n",
        "\n",
        "# Example of unintended side effect if mutable keys were allowed\n",
        "# mutable_key = [1, 2, 3]\n",
        "# my_dict = {mutable_key: \"value\"}  # Raises TypeError: unhashable type: 'list'\n",
        "# mutable_key.append(4)  # Would change the hash value if allowed, breaking access\n",
        "```\n",
        "###Examples of Valid Immutable Keys\n",
        "###1.Strings as Keys:\n",
        "\n",
        "Strings are immutable and are often used as dictionary keys.\n",
        "```\n",
        "my_dict = {\"name\": \"Alice\", \"age\": 30}\n",
        "print(my_dict[\"name\"])  # Output: Alice\n",
        "```\n",
        "###2.Numbers as Keys:\n",
        "\n",
        "Numbers (integers and floats) are immutable and can be used as dictionary keys.\n",
        "```\n",
        "number_dict = {1: \"one\", 2: \"two\", 3: \"three\"}\n",
        "print(number_dict[2])  # Output: \"two\"\n",
        "```\n",
        "###3.Tuples as Keys:\n",
        "\n",
        "Tuples are immutable and can be used as dictionary keys, even if they contain other immutable types.\n",
        "```\n",
        "coordinates = {(10, 20): \"Point A\", (30, 40): \"Point B\"}\n",
        "print(coordinates[(10, 20)])  # Output: \"Point A\"\n",
        "```\n",
        "###4.Custom Immutable Objects as Keys:\n",
        "\n",
        "You can use instances of custom classes as dictionary keys if you define the class in such a way that the instances are immutable (by overriding methods like __hash__() and __eq__()).\n",
        "```\n",
        "class ImmutablePoint:\n",
        "    def __init__(self, x, y):\n",
        "        self.x = x\n",
        "        self.y = y\n",
        "\n",
        "    def __hash__(self):\n",
        "        return hash((self.x, self.y))\n",
        "\n",
        "    def __eq__(self, other):\n",
        "        return (self.x, self.y) == (other.x, other.y)\n",
        "\n",
        "point_a = ImmutablePoint(1, 2)\n",
        "point_b = ImmutablePoint(3, 4)\n",
        "\n",
        "point_dict = {point_a: \"A\", point_b: \"B\"}\n",
        "print(point_dict[point_a])  # Output: \"A\"\n",
        "```\n",
        "###Conclusion:\n",
        "\n",
        "1.Immutability is essential for dictionary keys to ensure consistent hashing, efficient lookups, data integrity, and prevention of unintended side effects.\n",
        "\n",
        "2.Strings, numbers, tuples, and custom immutable objects are suitable for use as dictionary keys."
      ],
      "metadata": {
        "id": "y37NZIywIIpc"
      }
    },
    {
      "cell_type": "code",
      "source": [
        "#Hashing and performance\n",
        "# Example of an immutable key (string)\n",
        "my_dict = {\"name\": \"Alice\", \"age\": 30}\n",
        "print(my_dict[\"name\"])  # Output: Alice\n",
        "\n",
        "# Attempting to use a mutable type (like a list) as a key will raise an error\n",
        "# my_dict = {[\"name\"]: \"Alice\"}  # Raises TypeError: unhashable type: 'list'\n"
      ],
      "metadata": {
        "colab": {
          "base_uri": "https://localhost:8080/"
        },
        "id": "hhQQ5S8nJ0tg",
        "outputId": "5854c0c0-4c12-4bbd-a97f-0754c9ab0663"
      },
      "execution_count": null,
      "outputs": [
        {
          "output_type": "stream",
          "name": "stdout",
          "text": [
            "Alice\n"
          ]
        }
      ]
    },
    {
      "cell_type": "code",
      "source": [
        "#Data integrity and consistency\n",
        "# Correct use with an immutable key (tuple)\n",
        "coordinates = {(10, 20): \"Point A\", (30, 40): \"Point B\"}\n",
        "print(coordinates[(10, 20)])  # Output: \"Point A\"\n",
        "\n",
        "# Incorrect use with a mutable key (list) would raise an error\n",
        "# mutable_key_dict = {[1, 2]: \"Point C\"}  # Raises TypeError: unhashable type: 'list'\n"
      ],
      "metadata": {
        "colab": {
          "base_uri": "https://localhost:8080/"
        },
        "id": "CZiOFdICJ1Ux",
        "outputId": "5c9456f4-d9df-46f2-8dd7-c0e91e756af1"
      },
      "execution_count": null,
      "outputs": [
        {
          "output_type": "stream",
          "name": "stdout",
          "text": [
            "Point A\n"
          ]
        }
      ]
    },
    {
      "cell_type": "code",
      "source": [
        "#Ensuring unique and identifiable keys\n",
        "# Immutable keys maintain unique identity\n",
        "person_info = {(\"John\", \"Doe\"): 35, (\"Jane\", \"Smith\"): 28}\n",
        "print(person_info[(\"John\", \"Doe\")])  # Output: 35\n",
        "\n",
        "# Attempt to use a mutable key (list) would fail\n",
        "# person_info = {[1, 2, 3]: \"value\"}  # Raises TypeError: unhashable type: 'list'\n",
        "\n"
      ],
      "metadata": {
        "colab": {
          "base_uri": "https://localhost:8080/"
        },
        "id": "bwIXfCbBJ1PR",
        "outputId": "5efb98ed-dae3-4896-eee0-cbd217418924"
      },
      "execution_count": null,
      "outputs": [
        {
          "output_type": "stream",
          "name": "stdout",
          "text": [
            "35\n"
          ]
        }
      ]
    },
    {
      "cell_type": "code",
      "source": [
        "#Prevention od unintended side effects\n",
        "# Correct usage with an immutable key\n",
        "my_dict = {(\"x\", \"y\"): \"Coordinates\"}\n",
        "print(my_dict[(\"x\", \"y\")])  # Output: \"Coordinates\"\n",
        "\n",
        "# Example of unintended side effect if mutable keys were allowed\n",
        "# mutable_key = [1, 2, 3]\n",
        "# my_dict = {mutable_key: \"value\"}  # Raises TypeError: unhashable type: 'list'\n",
        "# mutable_key.append(4)  # Would change the hash value if allowed, breaking access\n"
      ],
      "metadata": {
        "colab": {
          "base_uri": "https://localhost:8080/"
        },
        "id": "sAHxAmLAJ1HB",
        "outputId": "59fba2a9-cef6-4e56-91b3-fbf0864eb125"
      },
      "execution_count": null,
      "outputs": [
        {
          "output_type": "stream",
          "name": "stdout",
          "text": [
            "Coordinates\n"
          ]
        }
      ]
    },
    {
      "cell_type": "code",
      "source": [
        "#Strings as keys\n",
        "my_dict = {\"name\": \"Alice\", \"age\": 30}\n",
        "print(my_dict[\"name\"])  # Output: Alice\n"
      ],
      "metadata": {
        "colab": {
          "base_uri": "https://localhost:8080/"
        },
        "id": "-jk7mu2oJ1_w",
        "outputId": "8cac70c6-771f-4a42-a8ab-759199e23c7a"
      },
      "execution_count": null,
      "outputs": [
        {
          "output_type": "stream",
          "name": "stdout",
          "text": [
            "Alice\n"
          ]
        }
      ]
    },
    {
      "cell_type": "code",
      "source": [
        "#Numbers as keys\n",
        "number_dict = {1: \"one\", 2: \"two\", 3: \"three\"}\n",
        "print(number_dict[2])  # Output: \"two\"\n",
        "\n"
      ],
      "metadata": {
        "colab": {
          "base_uri": "https://localhost:8080/"
        },
        "id": "scTdrTglJ13g",
        "outputId": "acef8c20-a458-4bf8-f029-87d7f9e34cb6"
      },
      "execution_count": null,
      "outputs": [
        {
          "output_type": "stream",
          "name": "stdout",
          "text": [
            "two\n"
          ]
        }
      ]
    },
    {
      "cell_type": "code",
      "source": [
        "#Tuples as keys\n",
        "coordinates = {(10, 20): \"Point A\", (30, 40): \"Point B\"}\n",
        "print(coordinates[(10, 20)])  # Output: \"Point A\"\n"
      ],
      "metadata": {
        "colab": {
          "base_uri": "https://localhost:8080/"
        },
        "id": "YkV7PcWLKjsu",
        "outputId": "a2c81aa5-f2a7-449f-9814-1ec9d79b0595"
      },
      "execution_count": null,
      "outputs": [
        {
          "output_type": "stream",
          "name": "stdout",
          "text": [
            "Point A\n"
          ]
        }
      ]
    },
    {
      "cell_type": "code",
      "source": [
        "#custom immutable pbjects as keys\n",
        "class ImmutablePoint:\n",
        "    def __init__(self, x, y):\n",
        "        self.x = x\n",
        "        self.y = y\n",
        "\n",
        "    def __hash__(self):\n",
        "        return hash((self.x, self.y))\n",
        "\n",
        "    def __eq__(self, other):\n",
        "        return (self.x, self.y) == (other.x, other.y)\n",
        "\n",
        "point_a = ImmutablePoint(1, 2)\n",
        "point_b = ImmutablePoint(3, 4)\n",
        "\n",
        "point_dict = {point_a: \"A\", point_b: \"B\"}\n",
        "print(point_dict[point_a])  # Output: \"A\"\n"
      ],
      "metadata": {
        "colab": {
          "base_uri": "https://localhost:8080/"
        },
        "id": "t-9tayAFKtP-",
        "outputId": "31ef7dc8-f56c-41bb-b0f7-449956021f0b"
      },
      "execution_count": null,
      "outputs": [
        {
          "output_type": "stream",
          "name": "stdout",
          "text": [
            "A\n"
          ]
        }
      ]
    }
  ]
}